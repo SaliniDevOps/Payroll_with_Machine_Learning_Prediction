{
 "cells": [
  {
   "cell_type": "code",
   "execution_count": 1,
   "metadata": {},
   "outputs": [
    {
     "name": "stdout",
     "output_type": "stream",
     "text": [
      "Predicted Labor Cost: 111144044.87004268\n"
     ]
    }
   ],
   "source": [
    "import joblib\n",
    "import pandas as pd\n",
    "\n",
    "# Load the model from the file\n",
    "model = joblib.load('labor_cost_model.pkl')\n",
    "\n",
    "# New project data\n",
    "new_data = {\n",
    "    'ProjectDuration': [120],\n",
    "    'Holidays': [10],\n",
    "    'HourlyRate': [16.5],\n",
    "    'NumWorkers': [15]\n",
    "}\n",
    "\n",
    "# Convert to DataFrame\n",
    "new_df = pd.DataFrame(new_data)\n",
    "\n",
    "# Make predictions\n",
    "predicted_labor_cost = model.predict(new_df)\n",
    "\n",
    "print(f'Predicted Labor Cost: {predicted_labor_cost[0]}')\n"
   ]
  }
 ],
 "metadata": {
  "kernelspec": {
   "display_name": "bdr_venv",
   "language": "python",
   "name": "python3"
  },
  "language_info": {
   "codemirror_mode": {
    "name": "ipython",
    "version": 3
   },
   "file_extension": ".py",
   "mimetype": "text/x-python",
   "name": "python",
   "nbconvert_exporter": "python",
   "pygments_lexer": "ipython3",
   "version": "3.12.2"
  }
 },
 "nbformat": 4,
 "nbformat_minor": 2
}
