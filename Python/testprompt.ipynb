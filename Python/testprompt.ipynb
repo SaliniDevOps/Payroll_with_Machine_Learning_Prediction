{
 "cells": [
  {
   "cell_type": "code",
   "execution_count": 2,
   "metadata": {},
   "outputs": [],
   "source": [
    "import spacy"
   ]
  },
  {
   "cell_type": "code",
   "execution_count": 3,
   "metadata": {},
   "outputs": [],
   "source": [
    "# Load the spaCy model\n",
    "nlp = spacy.load(\"en_core_web_sm\")"
   ]
  },
  {
   "cell_type": "code",
   "execution_count": 4,
   "metadata": {},
   "outputs": [],
   "source": [
    "def generate_compliance_summary(compliance_issues):\n",
    "    summary_prompt = \"Summarize the following compliance issues:\\n\"\n",
    "    for issue in compliance_issues:\n",
    "        summary_prompt += f\"Employee: {issue['name']}, Issue: {issue['issue']}, Law: {issue['lawName']}\\n\"\n",
    "    \n",
    "    doc = nlp(summary_prompt)\n",
    "    summary = \" \".join([sent.text for sent in doc.sents])\n",
    "    return summary"
   ]
  },
  {
   "cell_type": "code",
   "execution_count": 5,
   "metadata": {},
   "outputs": [
    {
     "name": "stdout",
     "output_type": "stream",
     "text": [
      "Summarize the following compliance issues:\n",
      "Employee: John Doe, Issue: Below Minimum Wage, Law: Minimum Wage Law\n",
      "Employee: Jane Smith, Issue: Exceeds Maximum Working Hours, Law: Working Hours Law\n",
      "\n"
     ]
    }
   ],
   "source": [
    "# Example compliance issues\n",
    "compliance_issues = [\n",
    "    {'name': 'John Doe', 'issue': 'Below Minimum Wage', 'lawName': 'Minimum Wage Law'},\n",
    "    {'name': 'Jane Smith', 'issue': 'Exceeds Maximum Working Hours', 'lawName': 'Working Hours Law'},\n",
    "]\n",
    "\n",
    "summary = generate_compliance_summary(compliance_issues)\n",
    "print(summary)"
   ]
  }
 ],
 "metadata": {
  "kernelspec": {
   "display_name": "bdr_venv",
   "language": "python",
   "name": "python3"
  },
  "language_info": {
   "codemirror_mode": {
    "name": "ipython",
    "version": 3
   },
   "file_extension": ".py",
   "mimetype": "text/x-python",
   "name": "python",
   "nbconvert_exporter": "python",
   "pygments_lexer": "ipython3",
   "version": "3.12.2"
  }
 },
 "nbformat": 4,
 "nbformat_minor": 2
}
