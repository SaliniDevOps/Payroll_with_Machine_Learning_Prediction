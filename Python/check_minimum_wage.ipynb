{
 "cells": [
  {
   "cell_type": "code",
   "execution_count": 22,
   "metadata": {},
   "outputs": [],
   "source": [
    "import spacy\n",
    "import mysql.connector\n",
    "import json"
   ]
  },
  {
   "cell_type": "code",
   "execution_count": 23,
   "metadata": {},
   "outputs": [
    {
     "name": "stdout",
     "output_type": "stream",
     "text": [
      "{\n",
      "    \"status\": \"Non-compliance found\",\n",
      "    \"summary\": \"Generate a report for the following employees who are paid below the minimum wage:\\n Employee: John Doe, Monthly Salary: 500.0 QAR\\n\",\n",
      "    \"details\": [\n",
      "        {\n",
      "            \"EmployeeID\": 1,\n",
      "            \"FirstName\": \"John\",\n",
      "            \"LastName\": \"Doe\",\n",
      "            \"MonthlySalary\": 500.0\n",
      "        }\n",
      "    ]\n",
      "}\n"
     ]
    }
   ],
   "source": [
    "# Connect to the WAMP MySQL database\n",
    "db = mysql.connector.connect(\n",
    "    host=\"localhost\",  # Assuming WAMP server is running locally\n",
    "    user=\"root\",\n",
    "    password=\"\",\n",
    "    database=\"badrpayroll\"\n",
    ")\n",
    "\n",
    "cursor = db.cursor(dictionary=True)\n",
    "\n",
    "# Load the spaCy model\n",
    "nlp = spacy.load(\"en_core_web_sm\")\n",
    "\n",
    "# Minimum wage in QAR\n",
    "MINIMUM_WAGE = 1000\n",
    "\n",
    "def check_minimum_wage():\n",
    "    query = \"\"\"\n",
    "    SELECT e.EmployeeID, e.FirstName, e.LastName, SUM(ew.WagePaid) AS MonthlySalary\n",
    "    FROM employee e\n",
    "    JOIN employee_wages ew ON e.EmployeeID = ew.EmployeeID\n",
    "    WHERE ew.Date BETWEEN DATE_FORMAT(CURRENT_DATE() ,'%Y-%m-01') AND LAST_DAY(CURRENT_DATE())\n",
    "    GROUP BY e.EmployeeID\n",
    "    HAVING MonthlySalary < %s\n",
    "    \"\"\"\n",
    "    cursor.execute(query, (MINIMUM_WAGE,))\n",
    "    results = cursor.fetchall()\n",
    "    return results\n",
    "\n",
    "def generate_summary(non_compliant_employees):\n",
    "    summary_prompt = \"Generate a report for the following employees who are paid below the minimum wage:\\n\"\n",
    "    for employee in non_compliant_employees:\n",
    "        summary_prompt += f\"Employee: {employee['FirstName']} {employee['LastName']}, Monthly Salary: {employee['MonthlySalary']} QAR\\n\"\n",
    "    \n",
    "    doc = nlp(summary_prompt)\n",
    "    summary = \" \".join([sent.text for sent in doc.sents])\n",
    "    return summary\n",
    "\n",
    "# Fetch non-compliant employees\n",
    "non_compliant_employees = check_minimum_wage()\n",
    "\n",
    "# Generate summary\n",
    "if non_compliant_employees:\n",
    "    summary = generate_summary(non_compliant_employees)\n",
    "    output = {\n",
    "        \"status\": \"Non-compliance found\",\n",
    "        \"summary\": summary,\n",
    "        \"details\": non_compliant_employees\n",
    "    }\n",
    "else:\n",
    "    output = {\n",
    "        \"status\": \"All employees are paid at or above the minimum wage.\",\n",
    "        \"summary\": \"\",\n",
    "        \"details\": []\n",
    "    }\n",
    "\n",
    "# Ensure only JSON is printed\n",
    "print(json.dumps(output, indent=4))\n",
    "\n",
    "# Close the database connection\n",
    "cursor.close()\n",
    "db.close()\n",
    "\n"
   ]
  }
 ],
 "metadata": {
  "kernelspec": {
   "display_name": "bdr_venv",
   "language": "python",
   "name": "python3"
  },
  "language_info": {
   "codemirror_mode": {
    "name": "ipython",
    "version": 3
   },
   "file_extension": ".py",
   "mimetype": "text/x-python",
   "name": "python",
   "nbconvert_exporter": "python",
   "pygments_lexer": "ipython3",
   "version": "3.12.2"
  }
 },
 "nbformat": 4,
 "nbformat_minor": 2
}
